{
 "cells": [
  {
   "cell_type": "markdown",
   "id": "4a7db691-2c7f-41ec-99d8-ee85cada7784",
   "metadata": {},
   "source": [
    "### Algorithm 1: Add two numbers entered by the user\n",
    "\n",
    "Step 1: Start\n",
    "\n",
    "Step 2: Declare variables num1, num2 and sum. \n",
    "\n",
    "Step 3: Read values num1 and num2. \n",
    "\n",
    "Step 4: Add num1 and num2 and assign the result to sum.\n",
    "\n",
    "        sum←num1+num2 \n",
    "        \n",
    "Step 5: Display sum \n",
    "\n",
    "Step 6: Stop"
   ]
  },
  {
   "cell_type": "code",
   "execution_count": 8,
   "id": "0196c551-1949-4b31-86e9-3f94d64ebe8d",
   "metadata": {},
   "outputs": [
    {
     "name": "stdout",
     "output_type": "stream",
     "text": [
      "Total sum:87, Computed Comparable addition 87. Part two The answer is negative.\n"
     ]
    }
   ],
   "source": [
    "# Declare two variables\n",
    "num1 = 2\n",
    "num2 = 85\n",
    "sumTotal = num1 + num2\n",
    "\n",
    "def compareAdd(a,b):\n",
    "    if a < b:\n",
    "        return a + b\n",
    "    else:\n",
    "        return \"the answer is positive. \"\n",
    "\n",
    "result = compareAdd(num1, num2)\n",
    "\n",
    "def compareSubtract(a,b):\n",
    "    if b < a:\n",
    "        return a - b\n",
    "    else:\n",
    "        return \"the answer is negative.\"\n",
    "answer = compareSubtract(num1, num2)\n",
    "        \n",
    "print(f'Total sum:{sumTotal},Computed Comparable addition{result}.Part two {answer}')\n"
   ]
  },
  {
   "cell_type": "markdown",
   "id": "8022a5c8-6c96-4983-9649-69efafbd2590",
   "metadata": {},
   "source": [
    "### Algorithm 2: Find the largest number among three numbers\n",
    "\n",
    "- Step 1: Start\n",
    "- Step 2: Declare variables a,b and c.\n",
    "- Step 3: Read variables a,b and c.\n",
    "\n",
    "```\n",
    "Step 4: If a > b\n",
    "           If a > c\n",
    "              Display a is the largest number.\n",
    "           Else\n",
    "              Display c is the largest number.\n",
    "        Else\n",
    "           If b > c\n",
    "              Display b is the largest number.\n",
    "           Else\n",
    "              Display c is the greatest number.\n",
    "```\n",
    "Step 5: Stop"
   ]
  },
  {
   "cell_type": "code",
   "execution_count": 5,
   "id": "3d25d44d-4c1d-4118-b0ff-dea7eaecbd29",
   "metadata": {},
   "outputs": [
    {
     "ename": "IndentationError",
     "evalue": "expected an indented block after 'if' statement on line 7 (681693092.py, line 9)",
     "output_type": "error",
     "traceback": [
      "\u001b[0;36m  Cell \u001b[0;32mIn[5], line 9\u001b[0;36m\u001b[0m\n\u001b[0;31m    else:\u001b[0m\n\u001b[0m    ^\u001b[0m\n\u001b[0;31mIndentationError\u001b[0m\u001b[0;31m:\u001b[0m expected an indented block after 'if' statement on line 7\n"
     ]
    }
   ],
   "source": [
    "num1 = 45 \n",
    "num2 = 69\n",
    "num3 = 98\n",
    "\n",
    "def largestnumber(i,j,k):\n",
    "    if i > j:\n",
    "        if i > k:\n",
    "        \n",
    "    else:\n",
    "        if j > k:\n",
    "            \n",
    "            \n",
    "lagestNumber = largestnumber(num1, num2, num3)\n",
    "\n",
    "print(lagestNumber)\n"
   ]
  },
  {
   "cell_type": "code",
   "execution_count": null,
   "id": "2127d3db-96c1-4bc6-80c3-2be6ec8c313e",
   "metadata": {},
   "outputs": [],
   "source": []
  }
 ],
 "metadata": {
  "kernelspec": {
   "display_name": "Python 3 (ipykernel)",
   "language": "python",
   "name": "python3"
  },
  "language_info": {
   "codemirror_mode": {
    "name": "ipython",
    "version": 3
   },
   "file_extension": ".py",
   "mimetype": "text/x-python",
   "name": "python",
   "nbconvert_exporter": "python",
   "pygments_lexer": "ipython3",
   "version": "3.13.7"
  }
 },
 "nbformat": 4,
 "nbformat_minor": 5
}
