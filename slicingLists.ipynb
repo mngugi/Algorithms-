{
 "cells": [
  {
   "cell_type": "code",
   "execution_count": 1,
   "id": "467d777e-2d5d-41cb-a301-9f99e1b2aa9d",
   "metadata": {},
   "outputs": [
    {
     "data": {
      "text/plain": [
       "[65, 98]"
      ]
     },
     "execution_count": 1,
     "metadata": {},
     "output_type": "execute_result"
    }
   ],
   "source": [
    "numbers = [74,12,23,65,98,85]\n",
    "\n",
    "# creating a sub slists\n",
    "\n",
    "new_numberList = numbers [3: 5]\n",
    "new_numberList\n"
   ]
  },
  {
   "cell_type": "code",
   "execution_count": 3,
   "id": "6c397271-97a4-4ceb-be4a-015acffdbf18",
   "metadata": {},
   "outputs": [
    {
     "data": {
      "text/plain": [
       "['cat', 'dog']"
      ]
     },
     "execution_count": 3,
     "metadata": {},
     "output_type": "execute_result"
    }
   ],
   "source": [
    "animals = ['cat','dog', 'pig', 'rat']\n",
    "\n",
    "new_animals = animals[0: 2]\n",
    "new_animals"
   ]
  },
  {
   "cell_type": "markdown",
   "id": "da8bee25-7ba0-4f8a-b8f2-da128b67fad7",
   "metadata": {},
   "source": [
    "### Repetition with Lists "
   ]
  },
  {
   "cell_type": "code",
   "execution_count": 4,
   "id": "34ede42e-0e18-40b0-b44e-f620a4ce85ed",
   "metadata": {},
   "outputs": [
    {
     "name": "stdout",
     "output_type": "stream",
     "text": [
      "Six elements having the value 0 these are [0, 0, 0, 0, 0, 0]\n"
     ]
    }
   ],
   "source": [
    "replists = [0] * 6\n",
    "print(f'Six elements having the value 0 these are {replists}.')"
   ]
  },
  {
   "cell_type": "code",
   "execution_count": null,
   "id": "692b60e2-0340-4bde-acde-1a7bda3c9101",
   "metadata": {},
   "outputs": [],
   "source": []
  }
 ],
 "metadata": {
  "kernelspec": {
   "display_name": "Python 3 (ipykernel)",
   "language": "python",
   "name": "python3"
  },
  "language_info": {
   "codemirror_mode": {
    "name": "ipython",
    "version": 3
   },
   "file_extension": ".py",
   "mimetype": "text/x-python",
   "name": "python",
   "nbconvert_exporter": "python",
   "pygments_lexer": "ipython3",
   "version": "3.13.7"
  }
 },
 "nbformat": 4,
 "nbformat_minor": 5
}
