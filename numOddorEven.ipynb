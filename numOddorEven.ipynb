{
 "cells": [
  {
   "cell_type": "markdown",
   "id": "0d8a73af-5dfc-4dac-be2c-fbbe0222ae50",
   "metadata": {},
   "source": [
    "- Step 1: Input: A number n\n",
    "- Step 2: If n is perfectly divisible by 2, \n",
    "         - Then print \"The number is even\" \n",
    "- Step 3: Else\n",
    "         - Print \"The number is odd\"\n",
    "- Step 4: End"
   ]
  },
  {
   "cell_type": "code",
   "execution_count": 2,
   "id": "f1b45059-e26d-469f-857b-462ea16378f2",
   "metadata": {},
   "outputs": [
    {
     "name": "stdout",
     "output_type": "stream",
     "text": [
      "The number 5 is odd\n"
     ]
    }
   ],
   "source": [
    "n = 5\n",
    "\n",
    "if n % 2 == 0:\n",
    "    print(f\"The number {n} is even\")\n",
    "else:\n",
    "    print(f\"The number {n} is odd\")"
   ]
  },
  {
   "cell_type": "code",
   "execution_count": null,
   "id": "d072827f-984f-4176-9143-3bc7a6fd7931",
   "metadata": {},
   "outputs": [],
   "source": []
  }
 ],
 "metadata": {
  "kernelspec": {
   "display_name": "Python 3 (ipykernel)",
   "language": "python",
   "name": "python3"
  },
  "language_info": {
   "codemirror_mode": {
    "name": "ipython",
    "version": 3
   },
   "file_extension": ".py",
   "mimetype": "text/x-python",
   "name": "python",
   "nbconvert_exporter": "python",
   "pygments_lexer": "ipython3",
   "version": "3.13.7"
  }
 },
 "nbformat": 4,
 "nbformat_minor": 5
}
