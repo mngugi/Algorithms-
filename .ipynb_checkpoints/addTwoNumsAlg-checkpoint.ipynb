{
 "cells": [
  {
   "cell_type": "markdown",
   "id": "4a7db691-2c7f-41ec-99d8-ee85cada7784",
   "metadata": {},
   "source": [
    "### Algorithm 1: Add two numbers entered by the user\n",
    "\n",
    "Step 1: Start\n",
    "\n",
    "Step 2: Declare variables num1, num2 and sum. \n",
    "\n",
    "Step 3: Read values num1 and num2. \n",
    "\n",
    "Step 4: Add num1 and num2 and assign the result to sum.\n",
    "\n",
    "        sum←num1+num2 \n",
    "        \n",
    "Step 5: Display sum \n",
    "\n",
    "Step 6: Stop"
   ]
  },
  {
   "cell_type": "code",
   "execution_count": 8,
   "id": "0196c551-1949-4b31-86e9-3f94d64ebe8d",
   "metadata": {},
   "outputs": [
    {
     "name": "stdout",
     "output_type": "stream",
     "text": [
      "Total sum:87, Computed Comparable addition 87. Part two The answer is negative.\n"
     ]
    }
   ],
   "source": [
    "# Declare two variables\n",
    "num1 = 2\n",
    "num2 = 85\n",
    "sumTotal = num1 + num2\n",
    "\n",
    "def compareAdd(a,b):\n",
    "    if a < b:\n",
    "        return a + b\n",
    "    else:\n",
    "        return \"the answer is positive. \"\n",
    "\n",
    "result = compareAdd(num1, num2)\n",
    "\n",
    "def compareSubtract(a,b):\n",
    "    if b < a:\n",
    "        return a - b\n",
    "    else:\n",
    "        return \"the answer is negative.\"\n",
    "answer = compareSubtract(num1, num2)\n",
    "        \n",
    "print(f'Total sum:{sumTotal},Computed Comparable addition{result}.Part two {answer}')\n"
   ]
  },
  {
   "cell_type": "markdown",
   "id": "8022a5c8-6c96-4983-9649-69efafbd2590",
   "metadata": {},
   "source": [
    "### Algorithm 2: Find the largest number among three numbers\n",
    "\n",
    "- Step 1: Start\n",
    "- Step 2: Declare variables a,b and c.\n",
    "- Step 3: Read variables a,b and c.\n",
    "\n",
    "```\n",
    "Step 4: If a > b\n",
    "           If a > c\n",
    "              Display a is the largest number.\n",
    "           Else\n",
    "              Display c is the largest number.\n",
    "        Else\n",
    "           If b > c\n",
    "              Display b is the largest number.\n",
    "           Else\n",
    "              Display c is the greatest number.\n",
    "```\n",
    "Step 5: Stop"
   ]
  },
  {
   "cell_type": "code",
   "execution_count": 10,
   "id": "3d25d44d-4c1d-4118-b0ff-dea7eaecbd29",
   "metadata": {},
   "outputs": [
    {
     "name": "stdout",
     "output_type": "stream",
     "text": [
      "lagest Number 61\n"
     ]
    }
   ],
   "source": [
    "num1 = 45 \n",
    "num2 = 61\n",
    "num3 = 9\n",
    "\n",
    "def largestnumber(i,j,k):\n",
    "    if i > j:\n",
    "        if i > k:\n",
    "            return i\n",
    "        else: \n",
    "            return k\n",
    "        \n",
    "    else:\n",
    "        if j > k:\n",
    "            return j\n",
    "        else:\n",
    "            return k\n",
    "            \n",
    "            \n",
    "largestNumber = largestnumber(num1, num2, num3)\n",
    "\n",
    "print(f'lagest Number {largestNumber}')\n"
   ]
  },
  {
   "cell_type": "markdown",
   "id": "9ccb4ec0-90f9-4aa2-8304-dd33d8dd9233",
   "metadata": {},
   "source": [
    "### Algorithm 3: Find Roots of a Quadratic Equation ax2 + bx + c = 0\n",
    "\n",
    "- Step 1: Start\n",
    "- Step 2: Declare variables a, b, c, D, x1, x2, rp and ip;\n",
    "- Step 3: Calculate discriminant\n",
    "         D ← b2-4ac\n",
    "- Step 4: If D ≥ 0\n",
    "              r1 ← (-b+√D)/2a\n",
    "              r2 ← (-b-√D)/2a \n",
    "              Display r1 and r2 as roots.\n",
    "        Else     \n",
    "              Calculate real part and imaginary part\n",
    "              rp ← -b/2a\n",
    "              ip ← √(-D)/2a\n",
    "              Display rp+j(ip) and rp-j(ip) as roots\n",
    "- Step 5: Stop             "
   ]
  },
  {
   "cell_type": "code",
   "execution_count": null,
   "id": "325cb2e6-c4a2-4bc3-96c5-981da5149a14",
   "metadata": {},
   "outputs": [],
   "source": []
  },
  {
   "cell_type": "markdown",
   "id": "05105c4c-2977-4c03-b670-1301aaddc798",
   "metadata": {},
   "source": [
    "### Algorithm 4: Find the factorial of a number\n",
    "\n",
    "- Step 1: Start\n",
    "- Step 2: Declare variables n, factorial and i.\n",
    "- Step 3: Initialize variables\n",
    "          factorial ← 1\n",
    "          i ← 1\n",
    "- Step 4: Read value of n\n",
    "- Step 5: Repeat the steps until i = n\n",
    "     5.1: factorial ← factorial*i\n",
    "     5.2: i ← i+1\n",
    "- Step 6: Display factorial\n",
    "- Step 7: Stop"
   ]
  },
  {
   "cell_type": "markdown",
   "id": "1d81a387-3d7f-497b-bd4d-486ed1769f6c",
   "metadata": {},
   "source": [
    "### Algorithm 5: Check whether a number is prime or not\n",
    "- Step 1: Start\n",
    "- Step 2: Declare variables n, i, flag.\n",
    "- Step 3: Initialize variables\n",
    "        flag ← 1\n",
    "        i ← 2  \n",
    "- Step 4: Read n from the user.\n",
    "- Step 5: Repeat the steps until i=(n/2)\n",
    "     5.1 If remainder of n÷i equals 0\n",
    "            flag ← 0\n",
    "            Go to step 6\n",
    "     5.2 i ← i+1\n",
    "- Step 6: If flag = 0\n",
    "           Display n is not prime\n",
    "        else\n",
    "           Display n is prime\n",
    "- Step 7: Stop "
   ]
  }
 ],
 "metadata": {
  "kernelspec": {
   "display_name": "Python 3 (ipykernel)",
   "language": "python",
   "name": "python3"
  },
  "language_info": {
   "codemirror_mode": {
    "name": "ipython",
    "version": 3
   },
   "file_extension": ".py",
   "mimetype": "text/x-python",
   "name": "python",
   "nbconvert_exporter": "python",
   "pygments_lexer": "ipython3",
   "version": "3.13.7"
  }
 },
 "nbformat": 4,
 "nbformat_minor": 5
}
