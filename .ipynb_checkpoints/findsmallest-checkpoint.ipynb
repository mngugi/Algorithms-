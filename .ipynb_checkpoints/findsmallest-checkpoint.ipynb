{
 "cells": [
  {
   "cell_type": "code",
   "execution_count": 1,
   "id": "71b8158a-0b98-4c5c-a97c-65e5c05a38aa",
   "metadata": {},
   "outputs": [
    {
     "data": {
      "text/plain": [
       "'\\na function to find the smallest element\\nin an array:\\n'"
      ]
     },
     "execution_count": 1,
     "metadata": {},
     "output_type": "execute_result"
    }
   ],
   "source": [
    "info =\"\"\"\n",
    "a function to find the smallest element\n",
    "in an array:\n",
    "\"\"\"\n",
    "\n",
    "info"
   ]
  },
  {
   "cell_type": "code",
   "execution_count": 5,
   "id": "0bc9d9fe-b86e-4132-ab21-d24e6e59c025",
   "metadata": {},
   "outputs": [
    {
     "ename": "TypeError",
     "evalue": "find_Smallest() takes 0 positional arguments but 1 was given",
     "output_type": "error",
     "traceback": [
      "\u001b[0;31m---------------------------------------------------------------------------\u001b[0m",
      "\u001b[0;31mTypeError\u001b[0m                                 Traceback (most recent call last)",
      "Cell \u001b[0;32mIn[5], line 10\u001b[0m\n\u001b[1;32m      7\u001b[0m             smallestIndex \u001b[38;5;241m=\u001b[39m i\n\u001b[1;32m      9\u001b[0m     \u001b[38;5;28;01mreturn\u001b[39;00m smallestIndex\n\u001b[0;32m---> 10\u001b[0m \u001b[38;5;28mprint\u001b[39m(\u001b[38;5;124m\"\u001b[39m\u001b[38;5;124mSmallest element is: \u001b[39m\u001b[38;5;124m\"\u001b[39m,\u001b[43mfind_Smallest\u001b[49m\u001b[43m(\u001b[49m\u001b[43m[\u001b[49m\u001b[38;5;241;43m3\u001b[39;49m\u001b[43m,\u001b[49m\u001b[38;5;241;43m5\u001b[39;49m\u001b[43m,\u001b[49m\u001b[38;5;241;43m9\u001b[39;49m\u001b[43m,\u001b[49m\u001b[38;5;241;43m8\u001b[39;49m\u001b[43m,\u001b[49m\u001b[38;5;241;43m4\u001b[39;49m\u001b[43m,\u001b[49m\u001b[38;5;241;43m1\u001b[39;49m\u001b[43m,\u001b[49m\u001b[38;5;241;43m4\u001b[39;49m\u001b[43m,\u001b[49m\u001b[38;5;241;43m6\u001b[39;49m\u001b[43m,\u001b[49m\u001b[38;5;241;43m7\u001b[39;49m\u001b[43m]\u001b[49m\u001b[43m)\u001b[49m)\n",
      "\u001b[0;31mTypeError\u001b[0m: find_Smallest() takes 0 positional arguments but 1 was given"
     ]
    }
   ],
   "source": [
    "def find_Smallest():\n",
    "    smallestElement = arr[0]\n",
    "    smallestIndex = 0\n",
    "    for i in range(1,len(arr)):\n",
    "        if arr[i] < smallestElement:\n",
    "            smallestElement = arr[i]\n",
    "            smallestIndex = i\n",
    "\n",
    "    return smallestIndex\n",
    "print find_Smallest(\"Smallest element is: \",[3,5,9,8,4,1,4,6,7])\n",
    "\n",
    "    "
   ]
  },
  {
   "cell_type": "code",
   "execution_count": null,
   "id": "c1f7cf56-842e-49c7-8cb9-58b24c5bddfb",
   "metadata": {},
   "outputs": [],
   "source": []
  }
 ],
 "metadata": {
  "kernelspec": {
   "display_name": "Python 3 (ipykernel)",
   "language": "python",
   "name": "python3"
  },
  "language_info": {
   "codemirror_mode": {
    "name": "ipython",
    "version": 3
   },
   "file_extension": ".py",
   "mimetype": "text/x-python",
   "name": "python",
   "nbconvert_exporter": "python",
   "pygments_lexer": "ipython3",
   "version": "3.12.2"
  }
 },
 "nbformat": 4,
 "nbformat_minor": 5
}
