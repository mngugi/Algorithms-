{
 "cells": [
  {
   "cell_type": "code",
   "execution_count": 13,
   "id": "71b8158a-0b98-4c5c-a97c-65e5c05a38aa",
   "metadata": {},
   "outputs": [
    {
     "name": "stdout",
     "output_type": "stream",
     "text": [
      "\n",
      "a function to find the smallest element\n",
      "in an array:\n",
      "\n"
     ]
    }
   ],
   "source": [
    "info =\"\"\"\n",
    "a function to find the smallest index element\n",
    "in an array:\n",
    "\"\"\"\n",
    "\n",
    "print(info)"
   ]
  },
  {
   "cell_type": "code",
   "execution_count": 12,
   "id": "0bc9d9fe-b86e-4132-ab21-d24e6e59c025",
   "metadata": {},
   "outputs": [
    {
     "name": "stdout",
     "output_type": "stream",
     "text": [
      "Index of the smallest element is:  5\n"
     ]
    }
   ],
   "source": [
    "def find_Smallest(arr):\n",
    "    smallestElement = arr[0]\n",
    "    smallestIndex = 0\n",
    "    for i in range(1,len(arr)):\n",
    "        if arr[i] < smallestElement:\n",
    "            smallestElement = arr[i]\n",
    "            smallestIndex = i\n",
    "\n",
    "    return smallestIndex\n",
    "print (\"Index of the smallest element is: \",find_Smallest([3,5,9,8,4,1,4,6,7]))\n",
    "\n",
    "    "
   ]
  },
  {
   "cell_type": "code",
   "execution_count": null,
   "id": "c1f7cf56-842e-49c7-8cb9-58b24c5bddfb",
   "metadata": {},
   "outputs": [],
   "source": []
  }
 ],
 "metadata": {
  "kernelspec": {
   "display_name": "Python 3 (ipykernel)",
   "language": "python",
   "name": "python3"
  },
  "language_info": {
   "codemirror_mode": {
    "name": "ipython",
    "version": 3
   },
   "file_extension": ".py",
   "mimetype": "text/x-python",
   "name": "python",
   "nbconvert_exporter": "python",
   "pygments_lexer": "ipython3",
   "version": "3.12.2"
  }
 },
 "nbformat": 4,
 "nbformat_minor": 5
}
