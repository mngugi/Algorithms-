{
 "cells": [
  {
   "cell_type": "code",
   "execution_count": null,
   "id": "467d777e-2d5d-41cb-a301-9f99e1b2aa9d",
   "metadata": {},
   "outputs": [],
   "source": [
    "numbers = [74,12,23,65,98,85]\n",
    "\n"
   ]
  }
 ],
 "metadata": {
  "kernelspec": {
   "display_name": "Python 3 (ipykernel)",
   "language": "python",
   "name": "python3"
  },
  "language_info": {
   "codemirror_mode": {
    "name": "ipython",
    "version": 3
   },
   "file_extension": ".py",
   "mimetype": "text/x-python",
   "name": "python",
   "nbconvert_exporter": "python",
   "pygments_lexer": "ipython3",
   "version": "3.13.7"
  }
 },
 "nbformat": 4,
 "nbformat_minor": 5
}
