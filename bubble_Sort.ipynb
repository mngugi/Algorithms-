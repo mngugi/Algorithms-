{
  "nbformat": 4,
  "nbformat_minor": 0,
  "metadata": {
    "colab": {
      "provenance": [],
      "authorship_tag": "ABX9TyNoGfXJOiP+EkyJrBgX81U3",
      "include_colab_link": true
    },
    "kernelspec": {
      "name": "python3",
      "display_name": "Python 3"
    },
    "language_info": {
      "name": "python"
    }
  },
  "cells": [
    {
      "cell_type": "markdown",
      "metadata": {
        "id": "view-in-github",
        "colab_type": "text"
      },
      "source": [
        "<a href=\"https://colab.research.google.com/github/mngugi/Algorithms-/blob/main/bubble_Sort.ipynb\" target=\"_parent\"><img src=\"https://colab.research.google.com/assets/colab-badge.svg\" alt=\"Open In Colab\"/></a>"
      ]
    },
    {
      "cell_type": "code",
      "execution_count": 8,
      "metadata": {
        "colab": {
          "base_uri": "https://localhost:8080/"
        },
        "id": "G6VFehQ52pad",
        "outputId": "9c6eb1f8-9490-4626-a099-7349fba30009"
      },
      "outputs": [
        {
          "output_type": "stream",
          "name": "stdout",
          "text": [
            "[0, 1, 2, 3, 4, 5, 6, 7, 8, 9]\n"
          ]
        }
      ],
      "source": [
        "array = [7, 3, 9, 2, 0, 4, 8, 1, 6, 5]\n",
        "\n",
        "def bubble_Sort(theSeq):\n",
        "    n = len(theSeq)\n",
        "    for i in range(n - 1):\n",
        "        for j in range(n - 1 - i):\n",
        "            if theSeq[j] > theSeq[j + 1]:\n",
        "                temp = theSeq[j]\n",
        "                theSeq[j] = theSeq[j + 1]\n",
        "                theSeq[j + 1] = temp\n",
        "    return theSeq\n",
        "\n",
        "print(bubble_Sort(array))\n"
      ]
    }
  ]
}