{
  "nbformat": 4,
  "nbformat_minor": 0,
  "metadata": {
    "colab": {
      "provenance": [],
      "authorship_tag": "ABX9TyOXaHShevathSEQs5n2jHbJ",
      "include_colab_link": true
    },
    "kernelspec": {
      "name": "python3",
      "display_name": "Python 3"
    },
    "language_info": {
      "name": "python"
    }
  },
  "cells": [
    {
      "cell_type": "markdown",
      "metadata": {
        "id": "view-in-github",
        "colab_type": "text"
      },
      "source": [
        "<a href=\"https://colab.research.google.com/github/mngugi/Algorithms-/blob/main/statistics_recap.ipynb\" target=\"_parent\"><img src=\"https://colab.research.google.com/assets/colab-badge.svg\" alt=\"Open In Colab\"/></a>"
      ]
    },
    {
      "cell_type": "code",
      "execution_count": 2,
      "metadata": {
        "colab": {
          "base_uri": "https://localhost:8080/"
        },
        "id": "PWUSO7qmNUEt",
        "outputId": "7694a843-b819-4a7a-a0ad-802facc1a702"
      },
      "outputs": [
        {
          "output_type": "stream",
          "name": "stdout",
          "text": [
            "Mean Score 69\n"
          ]
        }
      ],
      "source": [
        "import statistics\n",
        "\n",
        "Data = [ 65,87,65,54,69,74]\n",
        "\n",
        "Mean = statistics.mean(Data)\n",
        "\n",
        "print (\"Mean Score:\", Mean)"
      ]
    },
    {
      "cell_type": "code",
      "source": [
        "import statistics\n",
        "\n",
        "Data = [ 65,87,65,54,69,74]\n",
        "\n",
        "Median_Score = statistics.median(Data)\n",
        "\n",
        "print (\"Median Score:\", Median_Score)"
      ],
      "metadata": {
        "colab": {
          "base_uri": "https://localhost:8080/"
        },
        "id": "4u-CQJIYO5qy",
        "outputId": "2d2509eb-6c9d-4134-d340-3fc363d3eed2"
      },
      "execution_count": 3,
      "outputs": [
        {
          "output_type": "stream",
          "name": "stdout",
          "text": [
            "Mean Score 67.0\n"
          ]
        }
      ]
    },
    {
      "cell_type": "code",
      "source": [
        "import statistics\n",
        "\n",
        "Data = [ 65,87,65,54,69,74]\n",
        "\n",
        "Mode = statistics.mode(Data)\n",
        "\n",
        "print (\"Mode Score\",Mode)"
      ],
      "metadata": {
        "colab": {
          "base_uri": "https://localhost:8080/"
        },
        "id": "ykdmhumAPO-3",
        "outputId": "a6d0569e-f5b9-418e-a4b2-04bd65f84c95"
      },
      "execution_count": 4,
      "outputs": [
        {
          "output_type": "stream",
          "name": "stdout",
          "text": [
            "Mode Score 65\n"
          ]
        }
      ]
    },
    {
      "cell_type": "code",
      "source": [
        "import statistics\n",
        "\n",
        "Data = [ 65,87,65,54,69,74]\n",
        "\n",
        "Variance = statistics.variance(Data)\n",
        "\n",
        "print (\"Variance\",Variance)"
      ],
      "metadata": {
        "colab": {
          "base_uri": "https://localhost:8080/"
        },
        "id": "QM9iT9WQPqU9",
        "outputId": "51cb45f8-50b4-4b41-c36b-dd25a28e28f6"
      },
      "execution_count": 5,
      "outputs": [
        {
          "output_type": "stream",
          "name": "stdout",
          "text": [
            "Variance 121.2\n"
          ]
        }
      ]
    }
  ]
}