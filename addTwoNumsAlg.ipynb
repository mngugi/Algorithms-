{
 "cells": [
  {
   "cell_type": "markdown",
   "id": "4a7db691-2c7f-41ec-99d8-ee85cada7784",
   "metadata": {},
   "source": [
    "Step 1: Start\n",
    "\n",
    "Step 2: Declare variables num1, num2 and sum. \n",
    "\n",
    "Step 3: Read values num1 and num2. \n",
    "\n",
    "Step 4: Add num1 and num2 and assign the result to sum.\n",
    "\n",
    "        sum←num1+num2 \n",
    "        \n",
    "Step 5: Display sum \n",
    "\n",
    "Step 6: Stop"
   ]
  },
  {
   "cell_type": "code",
   "execution_count": 6,
   "id": "0196c551-1949-4b31-86e9-3f94d64ebe8d",
   "metadata": {},
   "outputs": [
    {
     "name": "stdout",
     "output_type": "stream",
     "text": [
      "Total sum:336, Computed Comparable addition The answer is positive. . Part two \n"
     ]
    }
   ],
   "source": [
    "# Declare two variables\n",
    "num1 = 251\n",
    "num2 = 85\n",
    "sumTotal = num1 + num2\n",
    "\n",
    "def compareAdd(a,b):\n",
    "    if a < b:\n",
    "        return a + b\n",
    "    else:\n",
    "        return \"The answer is positive. \"\n",
    "\n",
    "result = compareAdd(num1, num2)\n",
    "\n",
    "def compareSubtract(a,b):\n",
    "    if b < a:\n",
    "        return a - b\n",
    "    else:\n",
    "        return \"The answer is negative.\"\n",
    "answer = compareSubtract(num1, num2)\n",
    "        \n",
    "print(f'Total sum:{sumTotal}, Computed Comparable addition {result}. Part two {answer}')\n"
   ]
  },
  {
   "cell_type": "code",
   "execution_count": null,
   "id": "eca6dae3-26b4-48bc-a59d-9173fbe49a65",
   "metadata": {},
   "outputs": [],
   "source": []
  }
 ],
 "metadata": {
  "kernelspec": {
   "display_name": "Python 3 (ipykernel)",
   "language": "python",
   "name": "python3"
  },
  "language_info": {
   "codemirror_mode": {
    "name": "ipython",
    "version": 3
   },
   "file_extension": ".py",
   "mimetype": "text/x-python",
   "name": "python",
   "nbconvert_exporter": "python",
   "pygments_lexer": "ipython3",
   "version": "3.13.7"
  }
 },
 "nbformat": 4,
 "nbformat_minor": 5
}
