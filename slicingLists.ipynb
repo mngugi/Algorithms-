{
 "cells": [
  {
   "cell_type": "code",
   "execution_count": 1,
   "id": "467d777e-2d5d-41cb-a301-9f99e1b2aa9d",
   "metadata": {},
   "outputs": [
    {
     "data": {
      "text/plain": [
       "[65, 98]"
      ]
     },
     "execution_count": 1,
     "metadata": {},
     "output_type": "execute_result"
    }
   ],
   "source": [
    "numbers = [74,12,23,65,98,85]\n",
    "\n",
    "# creating a sub slists\n",
    "\n",
    "new_numberList = numbers [3: 5]\n",
    "new_numberList\n"
   ]
  },
  {
   "cell_type": "code",
   "execution_count": 3,
   "id": "6c397271-97a4-4ceb-be4a-015acffdbf18",
   "metadata": {},
   "outputs": [
    {
     "data": {
      "text/plain": [
       "['cat', 'dog']"
      ]
     },
     "execution_count": 3,
     "metadata": {},
     "output_type": "execute_result"
    }
   ],
   "source": [
    "animals = ['cat','dog', 'pig', 'rat']\n",
    "\n",
    "new_animals = animals[0: 2]\n",
    "new_animals"
   ]
  },
  {
   "cell_type": "markdown",
   "id": "da8bee25-7ba0-4f8a-b8f2-da128b67fad7",
   "metadata": {},
   "source": [
    "### Repetition with Lists "
   ]
  },
  {
   "cell_type": "code",
   "execution_count": 4,
   "id": "34ede42e-0e18-40b0-b44e-f620a4ce85ed",
   "metadata": {},
   "outputs": [
    {
     "name": "stdout",
     "output_type": "stream",
     "text": [
      "Six elements having the value 0 these are [0, 0, 0, 0, 0, 0]\n"
     ]
    }
   ],
   "source": [
    "replists = [0] * 6\n",
    "print(f'Six elements having the value 0 these are {replists}.')"
   ]
  },
  {
   "cell_type": "markdown",
   "id": "04565a03-3458-44af-be8f-c70068bf16da",
   "metadata": {},
   "source": [
    "### List append() and extend()"
   ]
  },
  {
   "cell_type": "code",
   "execution_count": 5,
   "id": "ed29f453-f0a3-4d40-8b41-3fbe948ebfe9",
   "metadata": {},
   "outputs": [
    {
     "name": "stdout",
     "output_type": "stream",
     "text": [
      "Append spinach in vegis lists, the results is ['Cabbages', 'Carrots', 'Kale', 'spinach']\n"
     ]
    }
   ],
   "source": [
    "vegis = ['Cabbages','Carrots', 'Kale']\n",
    "\n",
    "# append 'Spinach' \n",
    "\n",
    "vegis.append('spinach')\n",
    "\n",
    "print(f'Append spinach in vegis lists, the results is {vegis}.')"
   ]
  },
  {
   "cell_type": "markdown",
   "id": "15573321-2af0-499d-9774-bd4f79bfebea",
   "metadata": {},
   "source": [
    "### List pop() "
   ]
  },
  {
   "cell_type": "code",
   "execution_count": 7,
   "id": "e5b55994-ade2-412b-bdef-0599a525ee24",
   "metadata": {},
   "outputs": [
    {
     "name": "stdout",
     "output_type": "stream",
     "text": [
      "All sports ['Volleyball', 'Football', 'Athletics']\n",
      "Remove all non ball sports Swimming\n"
     ]
    }
   ],
   "source": [
    "sports = ['Volleyball','Football', 'Athletics', 'Swimming']\n",
    "remove_nonballs = sports.pop()\n",
    "\n",
    "print(f'All sports {sports}')\n",
    "print(f'Remove non ball sports {remove_nonballs}')"
   ]
  },
  {
   "cell_type": "markdown",
   "id": "f29f1419-af2c-4636-b290-6a635452867a",
   "metadata": {},
   "source": [
    "### List insert()"
   ]
  },
  {
   "cell_type": "code",
   "execution_count": 8,
   "id": "fa948ae7-b46a-4cd7-b6ae-5bbe88a9702a",
   "metadata": {},
   "outputs": [
    {
     "name": "stdout",
     "output_type": "stream",
     "text": [
      "['a', 'e', 'i', 'o', 'u']\n"
     ]
    }
   ],
   "source": [
    "# create a list of vowels\n",
    "vowel = ['a', 'e', 'i', 'u']\n",
    "\n",
    "# insert 'o' at index 3 (4th position)\n",
    "vowel.insert(3, 'o')\n",
    "\n",
    "print(vowel)"
   ]
  },
  {
   "cell_type": "markdown",
   "id": "9ca2e75d-e0d0-4b0a-8934-bd13d2eef543",
   "metadata": {},
   "source": [
    "### List reverse "
   ]
  },
  {
   "cell_type": "code",
   "execution_count": 9,
   "id": "fc453ec7-8c3d-4192-906f-ede8ed745c2d",
   "metadata": {},
   "outputs": [
    {
     "data": {
      "text/plain": [
       "['Cherries ', 'Apples', 'Oranges', 'Bananas']"
      ]
     },
     "execution_count": 9,
     "metadata": {},
     "output_type": "execute_result"
    }
   ],
   "source": [
    "fruits = ['Bananas','Oranges','Apples','Cherries ']\n",
    "\n",
    "fruits.reverse()\n",
    "fruits"
   ]
  },
  {
   "cell_type": "markdown",
   "id": "56041c0c-11eb-4eeb-a4ac-a6f00221cf45",
   "metadata": {},
   "source": [
    "### enumerate()"
   ]
  },
  {
   "cell_type": "code",
   "execution_count": 10,
   "id": "f98bf020-2ac2-4cf0-8826-4c0e773139e2",
   "metadata": {},
   "outputs": [
    {
     "name": "stdout",
     "output_type": "stream",
     "text": [
      "Bananas\n",
      "Oranges\n",
      "Apples\n",
      "Cherries \n"
     ]
    }
   ],
   "source": [
    "fruits = ['Bananas','Oranges','Apples','Cherries ']\n",
    "\n",
    "for j in fruits:\n",
    "    print(j)"
   ]
  },
  {
   "cell_type": "code",
   "execution_count": 11,
   "id": "9bac3c33-e9a7-48aa-86bc-52f8dde09724",
   "metadata": {},
   "outputs": [
    {
     "name": "stdout",
     "output_type": "stream",
     "text": [
      "['Dog', 'Cat', 'Moose', 'Tiger']\n"
     ]
    }
   ],
   "source": [
    "animals = ['Dog', 'Cat']\n",
    "wild_animals = ['Tiger', 'Coyote']\n",
    "\n",
    "# perform list operations\n",
    "\n",
    "# add Raccoon to the end using append()\n",
    "animals.append('Raccoon')\n",
    "\n",
    "# add wild_animals to animals using extend()\n",
    "animals.extend(wild_animals)\n",
    "\n",
    "# remove third elements from animals using pop(2)\n",
    "animals.pop(2)\n",
    "\n",
    "# remove last element from animals using pop()\n",
    "animals.pop()\n",
    "\n",
    "# add Moose at the third position in animals using insert()\n",
    "animals.insert(2, 'Moose')\n",
    "\n",
    "print(animals)"
   ]
  },
  {
   "cell_type": "code",
   "execution_count": null,
   "id": "bb725f88-1645-443e-9f45-5f772a3b6c64",
   "metadata": {},
   "outputs": [],
   "source": []
  }
 ],
 "metadata": {
  "kernelspec": {
   "display_name": "Python 3 (ipykernel)",
   "language": "python",
   "name": "python3"
  },
  "language_info": {
   "codemirror_mode": {
    "name": "ipython",
    "version": 3
   },
   "file_extension": ".py",
   "mimetype": "text/x-python",
   "name": "python",
   "nbconvert_exporter": "python",
   "pygments_lexer": "ipython3",
   "version": "3.13.7"
  }
 },
 "nbformat": 4,
 "nbformat_minor": 5
}
