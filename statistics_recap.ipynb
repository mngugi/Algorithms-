{
  "nbformat": 4,
  "nbformat_minor": 0,
  "metadata": {
    "colab": {
      "provenance": [],
      "authorship_tag": "ABX9TyNuNetuiZvqiufs3et6JSqJ",
      "include_colab_link": true
    },
    "kernelspec": {
      "name": "python3",
      "display_name": "Python 3"
    },
    "language_info": {
      "name": "python"
    }
  },
  "cells": [
    {
      "cell_type": "markdown",
      "metadata": {
        "id": "view-in-github",
        "colab_type": "text"
      },
      "source": [
        "<a href=\"https://colab.research.google.com/github/mngugi/Algorithms-/blob/main/statistics_recap.ipynb\" target=\"_parent\"><img src=\"https://colab.research.google.com/assets/colab-badge.svg\" alt=\"Open In Colab\"/></a>"
      ]
    },
    {
      "cell_type": "code",
      "execution_count": 2,
      "metadata": {
        "colab": {
          "base_uri": "https://localhost:8080/"
        },
        "id": "PWUSO7qmNUEt",
        "outputId": "7694a843-b819-4a7a-a0ad-802facc1a702"
      },
      "outputs": [
        {
          "output_type": "stream",
          "name": "stdout",
          "text": [
            "Mean Score 69\n"
          ]
        }
      ],
      "source": [
        "import statistics\n",
        "\n",
        "Data = [ 65,87,65,54,69,74]\n",
        "\n",
        "Mean = statistics.mean(Data)\n",
        "\n",
        "print (\"Mean Score\", Mean)"
      ]
    }
  ]
}